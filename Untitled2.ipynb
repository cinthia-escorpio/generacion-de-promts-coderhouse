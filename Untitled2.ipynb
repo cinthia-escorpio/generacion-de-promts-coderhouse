{
 "cells": [
  {
   "cell_type": "code",
   "execution_count": 11,
   "id": "e239584c-8149-4a12-9863-7531222836dd",
   "metadata": {},
   "outputs": [],
   "source": [
    "import openai \n",
    "from PIL import Image \n",
    "import requests \n",
    "from io import BytesIO \n",
    "openai.api_key =\"sk-5tJy2n7wouxmqsu7X3typNTueYHM7PgM5WBFKuxUp6T3BlbkFJR2UVQLl1vEk9LLW_yT4hObggArotgf9hiF8QAsg2oA\""
   ]
  },
  {
   "cell_type": "code",
   "execution_count": 14,
   "id": "c5abca15-ec43-4a1f-833b-022759118d24",
   "metadata": {},
   "outputs": [
    {
     "name": "stdout",
     "output_type": "stream",
     "text": [
      "¡Estas son las recetas saludables que puedes hacer con tus ingredientes!\n",
      "[]\n"
     ]
    }
   ],
   "source": [
    "recetas = [\n",
    "    {\"nombre\": \"Ensalada de frutas\", \"ingredientes\": [\"manzana\", \"pera\", \"uva\"], \"saludable\": True},\n",
    "    {\"nombre\": \"Pizza\", \"ingredientes\": [\"harina\", \"queso\", \"tomate\"], \"saludable\": False},\n",
    "    {\"nombre\": \"Sopa de verduras\", \"ingredientes\": [\"zanahoria\", \"papa\", \"cebolla\"], \"saludable\": True}\n",
    "]\n",
    "\n",
    "# Imagina que tenemos una lista de ingredientes en casa\n",
    "mis_ingredientes = [\"manzana\", \"zanahoria\", \"papa\"]\n",
    "\n",
    "# Buscamos recetas que sean saludables y que tengamos todos los ingredientes\n",
    "recetas_saludables = []\n",
    "for receta in recetas:\n",
    "    if receta[\"saludable\"] == True:\n",
    "        tengo_todos_los_ingredientes = True\n",
    "        for ingrediente in receta[\"ingredientes\"]:\n",
    "            if ingrediente not in mis_ingredientes:\n",
    "                tengo_todos_los_ingredientes = False\n",
    "                break\n",
    "        if tengo_todos_los_ingredientes:\n",
    "            recetas_saludables.append(receta[\"nombre\"])\n",
    "\n",
    "# Mostramos las recetas recomendadas\n",
    "print(\"¡Estas son las recetas saludables que puedes hacer con tus ingredientes!\")\n",
    "print(recetas_saludables)"
   ]
  },
  {
   "cell_type": "code",
   "execution_count": null,
   "id": "7b10d875-e51f-4047-8bb2-d4aa2170d696",
   "metadata": {},
   "outputs": [],
   "source": []
  }
 ],
 "metadata": {
  "kernelspec": {
   "display_name": "Python 3 (ipykernel)",
   "language": "python",
   "name": "python3"
  },
  "language_info": {
   "codemirror_mode": {
    "name": "ipython",
    "version": 3
   },
   "file_extension": ".py",
   "mimetype": "text/x-python",
   "name": "python",
   "nbconvert_exporter": "python",
   "pygments_lexer": "ipython3",
   "version": "3.12.4"
  }
 },
 "nbformat": 4,
 "nbformat_minor": 5
}
