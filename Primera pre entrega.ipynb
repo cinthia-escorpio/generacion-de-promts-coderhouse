{
 "cells": [
  {
   "cell_type": "code",
   "execution_count": null,
   "id": "7be00007-ca57-4908-a10f-9fe9477ab61b",
   "metadata": {},
   "outputs": [],
   "source": [
    "#Import openAI dependences (module)\n",
    "import openai"
   ]
  },
  {
   "cell_type": "code",
   "execution_count": null,
   "id": "936d9f59-0442-406c-8b9a-d834c5bd0065",
   "metadata": {},
   "outputs": [],
   "source": [
    "Use the API Key from openai page"
   ]
  },
  {
   "cell_type": "code",
   "execution_count": null,
   "id": "f3487a84-bb74-40cf-801e-795897bd8d39",
   "metadata": {},
   "outputs": [],
   "source": [
    "#Add our API Key copied from openai page\n",
    "openai.api_key =sk-qhX7a4Wd5KICLcEZUH-jMFBeYh7HmEVqEEjUEk3bV9T3BlbkFJ8R9Pir3uU74bszcu_mYp9Bj9w80s7sv2VOlkzfyAsA\n",
    "#Example -> dw-bQyr9128F49VJRNKAnST32lbkFJ2Zv4qEhWo4R0Xh6yrh15"
   ]
  },
  {
   "cell_type": "code",
   "execution_count": null,
   "id": "c224fe96-739f-4b78-a1db-756355cf9d8a",
   "metadata": {},
   "outputs": [],
   "source": [
    "3.1 Make a request (Model to analyze stories)"
   ]
  },
  {
   "cell_type": "code",
   "execution_count": 24,
   "id": "9dcc313c-15c1-4917-93ab-e119e222ed5f",
   "metadata": {},
   "outputs": [
    {
     "name": "stdin",
     "output_type": "stream",
     "text": [
      "Escribe una historia: #\"La Divina Comedia\" de Dante Alighieri es un poema épico dividido en tres partes: #Infierno, Purgatorio y Paraíso. Narra el viaje de Dante a través de estos reinos, guiado por Virgilio y Beatriz.  #En el Infierno, describe los castigos para diferentes pecados; en el Purgatorio, las almas se purifican; y en el Paraíso, Dante encuentra la salvación y la visión de Dios.  # Bucle para hacer preguntas múltiples\n",
      "Haz una pregunta sobre la historia:  cuales son los lugares donde se origina la historia?\n"
     ]
    },
    {
     "ename": "NameError",
     "evalue": "name 'openai' is not defined",
     "output_type": "error",
     "traceback": [
      "\u001b[1;31m---------------------------------------------------------------------------\u001b[0m",
      "\u001b[1;31mNameError\u001b[0m                                 Traceback (most recent call last)",
      "Cell \u001b[1;32mIn[24], line 22\u001b[0m\n\u001b[0;32m     17\u001b[0m conversation \u001b[38;5;241m=\u001b[39m [\n\u001b[0;32m     18\u001b[0m     {\u001b[38;5;124m\"\u001b[39m\u001b[38;5;124mrole\u001b[39m\u001b[38;5;124m\"\u001b[39m:\u001b[38;5;124m\"\u001b[39m\u001b[38;5;124muser\u001b[39m\u001b[38;5;124m\"\u001b[39m,\u001b[38;5;124m\"\u001b[39m\u001b[38;5;124mcontent\u001b[39m\u001b[38;5;124m\"\u001b[39m:few_shot_prompt}\n\u001b[0;32m     19\u001b[0m     ]\n\u001b[0;32m     21\u001b[0m \u001b[38;5;66;03m# Solicitud para obtener la respuesta del modelo\u001b[39;00m\n\u001b[1;32m---> 22\u001b[0m response \u001b[38;5;241m=\u001b[39m \u001b[43mopenai\u001b[49m\u001b[38;5;241m.\u001b[39mChatCompletion\u001b[38;5;241m.\u001b[39mcreate(\n\u001b[0;32m     23\u001b[0m     model\u001b[38;5;241m=\u001b[39m\u001b[38;5;124m'\u001b[39m\u001b[38;5;124mgpt-3.5-turbo\u001b[39m\u001b[38;5;124m'\u001b[39m,\n\u001b[0;32m     24\u001b[0m     messages\u001b[38;5;241m=\u001b[39mconversation,\n\u001b[0;32m     25\u001b[0m     max_tokens\u001b[38;5;241m=\u001b[39m\u001b[38;5;241m500\u001b[39m\n\u001b[0;32m     26\u001b[0m )\n\u001b[0;32m     28\u001b[0m \u001b[38;5;66;03m# Obtiene y muestra la respuesta del modelo\u001b[39;00m\n\u001b[0;32m     29\u001b[0m message \u001b[38;5;241m=\u001b[39m response\u001b[38;5;241m.\u001b[39mchoices[\u001b[38;5;241m0\u001b[39m][\u001b[38;5;124m'\u001b[39m\u001b[38;5;124mmessage\u001b[39m\u001b[38;5;124m'\u001b[39m]\n",
      "\u001b[1;31mNameError\u001b[0m: name 'openai' is not defined"
     ]
    }
   ],
   "source": [
    "# Contexto sobre La divina comedia \n",
    "story = input(\"Escribe una historia:\") # Ejemplo: Donde se origina la divina comedia \n",
    "#Divinacomedia_story = \"\"\"\n",
    "#\"La Divina Comedia\" de Dante Alighieri es un poema épico dividido en tres partes:\n",
    "#Infierno, Purgatorio y Paraíso. Narra el viaje de Dante a través de estos reinos, guiado por Virgilio y Beatriz. \n",
    "#En el Infierno, describe los castigos para diferentes pecados; en el Purgatorio, las almas se purifican; y en el Paraíso, Dante encuentra la salvación y la visión de Dios.\n",
    " # Bucle para hacer preguntas múltiples\n",
    "while True:\n",
    "    # Pregunta sobre La divina comedia \n",
    "    user_question = input(\"Haz una pregunta sobre la historia: \") # Ejemplo: ¿Cuáles son los actores principales?\n",
    "    \n",
    "    # Combinación del contexto y la pregunta\n",
    "    few_shot_prompt = f\"{story}\\nUsuario: {user_question}\"\n",
    "    \n",
    "    # Combinación del contexto y la pregunta con el ejemplo de Divina comedia\n",
    "    \n",
    "    conversation = [\n",
    "        {\"role\":\"user\",\"content\":few_shot_prompt}\n",
    "        ]\n",
    "    \n",
    "    # Solicitud para obtener la respuesta del modelo\n",
    "    response = openai.ChatCompletion.create(\n",
    "        model='gpt-3.5-turbo',\n",
    "        messages=conversation,\n",
    "        max_tokens=500\n",
    "    )\n",
    "\n",
    "    # Obtiene y muestra la respuesta del modelo\n",
    "    message = response.choices[0]['message']\n",
    "    print(\"{}\".format(message['content']))\n",
    "    \n",
    "    # Pregunta si se quiere hacer otra pregunta\n",
    "    another_question = input(\"¿Quieres hacer otra pregunta? (Si/No): \").lower()\n",
    "\n",
    "    # Condicional para decidir si continuar o salir del bucle\n",
    "    if another_question != 'si':\n",
    "        print(\"Saliendo del programa. ¡Gracias!\")\n",
    "        break\n"
   ]
  },
  {
   "cell_type": "code",
   "execution_count": null,
   "id": "8e8bc7cb-3de4-4dc8-9e65-96fc69eb3da9",
   "metadata": {},
   "outputs": [],
   "source": []
  }
 ],
 "metadata": {
  "kernelspec": {
   "display_name": "Python 3 (ipykernel)",
   "language": "python",
   "name": "python3"
  },
  "language_info": {
   "codemirror_mode": {
    "name": "ipython",
    "version": 3
   },
   "file_extension": ".py",
   "mimetype": "text/x-python",
   "name": "python",
   "nbconvert_exporter": "python",
   "pygments_lexer": "ipython3",
   "version": "3.12.4"
  }
 },
 "nbformat": 4,
 "nbformat_minor": 5
}
